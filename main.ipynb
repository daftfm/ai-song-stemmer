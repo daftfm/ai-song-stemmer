{
 "cells": [
  {
   "cell_type": "markdown",
   "metadata": {},
   "source": [
    "# Imports\n"
   ]
  },
  {
   "cell_type": "code",
   "execution_count": null,
   "metadata": {},
   "outputs": [],
   "source": [
    "import os\n",
    "import subprocess\n",
    "from pathlib import Path"
   ]
  },
  {
   "cell_type": "markdown",
   "metadata": {},
   "source": [
    "# Params (user should edit/check this)\n"
   ]
  },
  {
   "cell_type": "code",
   "execution_count": null,
   "metadata": {},
   "outputs": [],
   "source": [
    "model = \"htdemucs\"  # model options can be found at https://github.com/facebookresearch/demucs (main choices are 'htdemucs', 'htdemucs_ft', 'mdx_extra')\n",
    "extensions = [\"mp3\", \"wav\", \"ogg\", \"flac\"]  # we will look for all those file types.\n",
    "two_stems = (\n",
    "    None  # only separate one stems from the rest, for instance vocals from the rest.\n",
    ")\n",
    "\n",
    "# Options for the output audio.\n",
    "mp3 = False\n",
    "mp3_rate = 320\n",
    "shifts = 10  # performs multiple predictions with random shifts (a.k.a the shift trick) of the input and average them. This makes prediction SHIFTS times slower.\n",
    "overlap = 0.25  # controls the amount of overlap between prediction windows.\n",
    "float32 = False  # output as float 32 wavs, unsused if 'mp3' is True.\n",
    "int24 = False  # output as int24 wavs, unused if 'mp3' is True.\n",
    "# You cannot set both `float32 = True` and `int24 = True`\n",
    "\n",
    "in_path = \"input_audio\"\n",
    "out_path = \"output_audio\""
   ]
  },
  {
   "cell_type": "markdown",
   "metadata": {},
   "source": [
    "# Setup\n"
   ]
  },
  {
   "cell_type": "code",
   "execution_count": null,
   "metadata": {},
   "outputs": [],
   "source": [
    "def find_files(in_path):\n",
    "    out = []\n",
    "    for file in Path(in_path).iterdir():\n",
    "        if file.suffix.lower().lstrip(\".\") in extensions:\n",
    "            out.append(file)\n",
    "    return out\n",
    "\n",
    "\n",
    "def separate(inp=None, outp=None):\n",
    "    inp = inp or in_path\n",
    "    outp = outp or out_path\n",
    "    cmd = [\n",
    "        \"python3\",\n",
    "        \"-m\",\n",
    "        \"demucs.separate\",\n",
    "        \"-o\",\n",
    "        str(outp),\n",
    "        \"-n\",\n",
    "        model,\n",
    "        \"--shifts\",\n",
    "        str(shifts),\n",
    "        \"--overlap\",\n",
    "        str(overlap),\n",
    "    ]\n",
    "\n",
    "    if mp3:\n",
    "        cmd += [\"--mp3\", f\"--mp3-bitrate={mp3_rate}\"]\n",
    "    if float32:\n",
    "        cmd += [\"--float32\"]\n",
    "    if int24:\n",
    "        cmd += [\"--int24\"]\n",
    "    if two_stems is not None:\n",
    "        cmd += [f\"--two-stems={two_stems}\"]\n",
    "\n",
    "    files = [str(f) for f in find_files(inp)]\n",
    "    if not files:\n",
    "        print(f\"No valid audio files in {in_path}\")\n",
    "        return\n",
    "\n",
    "    print(\"Going to separate the files:\")\n",
    "    print(\"\\n\".join(files))\n",
    "    print(\"With command: \", \" \".join(cmd))\n",
    "\n",
    "    try:\n",
    "        # Use binary mode and handle encoding manually\n",
    "        process = subprocess.Popen(\n",
    "            cmd + files,\n",
    "            stdout=subprocess.PIPE,\n",
    "            stderr=subprocess.STDOUT,  # Merge stderr into stdout\n",
    "            bufsize=1,\n",
    "            env={\n",
    "                **os.environ,\n",
    "                \"PYTHONIOENCODING\": \"utf-8\",\n",
    "            },  # Ensure Python subprocess uses UTF-8\n",
    "        )\n",
    "\n",
    "        # Read and decode output\n",
    "        while True:\n",
    "            output = process.stdout.readline()\n",
    "            if not output and process.poll() is not None:\n",
    "                break\n",
    "            if output:\n",
    "                try:\n",
    "                    # Decode with utf-8, fallback to cp1252 if needed, ignore problematic characters\n",
    "                    line = output.decode(\"utf-8\", errors=\"replace\")\n",
    "                    print(line.strip())\n",
    "                except Exception as e:\n",
    "                    print(f\"Warning: Could not decode output line: {e}\")\n",
    "\n",
    "        returncode = process.poll()\n",
    "        if returncode != 0:\n",
    "            print(f\"Command failed with return code {returncode}\")\n",
    "\n",
    "    except Exception as e:\n",
    "        print(f\"An error occurred: {e}\")\n",
    "        if \"process\" in locals():\n",
    "            process.kill()\n",
    "        raise"
   ]
  },
  {
   "cell_type": "markdown",
   "metadata": {},
   "source": [
    "# Inference\n"
   ]
  },
  {
   "cell_type": "code",
   "execution_count": null,
   "metadata": {},
   "outputs": [],
   "source": [
    "separate()"
   ]
  }
 ],
 "metadata": {
  "kernelspec": {
   "display_name": ".venv",
   "language": "python",
   "name": "python3"
  },
  "language_info": {
   "codemirror_mode": {
    "name": "ipython",
    "version": 3
   },
   "file_extension": ".py",
   "mimetype": "text/x-python",
   "name": "python",
   "nbconvert_exporter": "python",
   "pygments_lexer": "ipython3",
   "version": "3.10.14"
  }
 },
 "nbformat": 4,
 "nbformat_minor": 2
}
